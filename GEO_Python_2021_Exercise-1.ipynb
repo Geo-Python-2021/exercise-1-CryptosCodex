{
 "cells": [
  {
   "cell_type": "code",
   "execution_count": 1,
   "id": "4dc3d67f-3342-40ef-99ea-d7b15290522e",
   "metadata": {},
   "outputs": [],
   "source": [
    "ice_cream_rating = 7\n",
    "sleeping_rating = 8"
   ]
  },
  {
   "cell_type": "code",
   "execution_count": 2,
   "id": "b6915346-5f90-42fb-929f-accd37830545",
   "metadata": {},
   "outputs": [
    {
     "name": "stdin",
     "output_type": "stream",
     "text": [
      "What is your first name? Chris\n",
      "What is your last name? Billen\n"
     ]
    }
   ],
   "source": [
    "first_name = input(\"What is your first name?\")\n",
    "last_name = input(\"What is your last name?\")"
   ]
  },
  {
   "cell_type": "code",
   "execution_count": 3,
   "id": "3495dc87-20f3-476e-ad45-c11caf36a239",
   "metadata": {
    "tags": []
   },
   "outputs": [],
   "source": [
    "happiness_rating = ((ice_cream_rating/10) + (sleeping_rating/10)) / 2"
   ]
  },
  {
   "cell_type": "code",
   "execution_count": 4,
   "id": "5d7572f4-be5b-4393-bcd9-a1fb48e7d17d",
   "metadata": {},
   "outputs": [
    {
     "data": {
      "text/plain": [
       "0.75"
      ]
     },
     "execution_count": 4,
     "metadata": {},
     "output_type": "execute_result"
    }
   ],
   "source": [
    "happiness_rating"
   ]
  },
  {
   "cell_type": "code",
   "execution_count": 5,
   "id": "b93c2a5c-5b73-463b-baac-c44dad68fd29",
   "metadata": {},
   "outputs": [
    {
     "name": "stdout",
     "output_type": "stream",
     "text": [
      "<class 'int'>\n",
      "<class 'str'>\n",
      "<class 'float'>\n"
     ]
    }
   ],
   "source": [
    "print(type(ice_cream_rating))\n",
    "print(type(first_name))\n",
    "print(type(happiness_rating))"
   ]
  },
  {
   "cell_type": "markdown",
   "id": "a44fc730-cfea-44f5-b3c0-be0e6b2c2869",
   "metadata": {},
   "source": [
    "yes, yes, made sense"
   ]
  },
  {
   "cell_type": "code",
   "execution_count": 9,
   "id": "a53254aa-078d-483c-9de9-67f406931d2c",
   "metadata": {},
   "outputs": [
    {
     "name": "stdout",
     "output_type": "stream",
     "text": [
      "My name is Chris I give eating ice cream a score of 7 out of 10!\n",
      "I am Chris Billen and my sleeping enjoyment rating is 8 / 10!\n",
      "Based on the factors above, my happiness rating is 7.5 out of 10, or 75.0 %!\n"
     ]
    }
   ],
   "source": [
    "print(\"My name is\", first_name, \"I give eating ice cream a score of\", ice_cream_rating, \"out of 10!\")\n",
    "print(\"I am\", first_name, last_name,  \"and my sleeping enjoyment rating is\", sleeping_rating, \"/ 10!\")\n",
    "print(\"Based on the factors above, my happiness rating is\", happiness_rating * 10,  \"out of 10, or\", happiness_rating * 100, \"%!\")"
   ]
  },
  {
   "cell_type": "code",
   "execution_count": null,
   "id": "aed5f27e-35b5-40ab-828f-dff554f41c99",
   "metadata": {},
   "outputs": [],
   "source": []
  },
  {
   "cell_type": "code",
   "execution_count": null,
   "id": "208690c6-39fb-4c3a-8576-ac56985d32cf",
   "metadata": {},
   "outputs": [],
   "source": []
  }
 ],
 "metadata": {
  "kernelspec": {
   "display_name": "Python 3 (ipykernel)",
   "language": "python",
   "name": "python3"
  },
  "language_info": {
   "codemirror_mode": {
    "name": "ipython",
    "version": 3
   },
   "file_extension": ".py",
   "mimetype": "text/x-python",
   "name": "python",
   "nbconvert_exporter": "python",
   "pygments_lexer": "ipython3",
   "version": "3.9.7"
  }
 },
 "nbformat": 4,
 "nbformat_minor": 5
}
